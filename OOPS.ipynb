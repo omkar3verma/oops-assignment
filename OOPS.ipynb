{
 "cells": [
  {
   "cell_type": "markdown",
   "id": "119f8afe-ce11-44df-afd5-24f197b84732",
   "metadata": {},
   "source": [
    "#THEORY QUESTIONS"
   ]
  },
  {
   "cell_type": "markdown",
   "id": "b38f7796-f807-4c48-a817-2544c43a0a35",
   "metadata": {},
   "source": [
    "1. What is Object-Oriented Programming (OOP)?\n",
    "ANS: OOP in python is a programming style that uses classes and objects to structure code. OOP include encapsulation, iheritance,\n",
    "abstraction and polymorphism."
   ]
  },
  {
   "cell_type": "markdown",
   "id": "ccf3174f-7a28-4d1a-946f-f3adca84a3ca",
   "metadata": {},
   "source": [
    "2. F What is a class in OOP?\n",
    "ans: class in oop is a template for creating objects it defines attributes (data) and methods (functions) that the objects\n",
    "created from it will have."
   ]
  },
  {
   "cell_type": "markdown",
   "id": "e5719206-29c7-4520-8073-a91e72c6c109",
   "metadata": {},
   "source": [
    "3. What is an object in OOP?\n",
    "ans: an object in OOP is an instance of a class. it represents entity created from a class template and contain its own\n",
    "data (attributes) and behaviour(method)."
   ]
  },
  {
   "cell_type": "markdown",
   "id": "b5b90d70-ee10-4b71-97f2-bf6f0e9333e3",
   "metadata": {},
   "source": [
    "4. What is the difference between abstraction and encapsulation?\n",
    "ans: Abstraction: focuses on hiding complexicity by showing only essential features, using abstract classes\n",
    "and interfaces\n",
    "Encapsulation: focuses on protecting data by bundling data and methods using access modifiers."
   ]
  },
  {
   "cell_type": "markdown",
   "id": "53b95a6a-3e44-41ad-9060-7d92b0bd6c46",
   "metadata": {},
   "source": [
    "5. What are dunder methods in Python?\n",
    "ans: dunder method (double underscore) in python are special method with names prefixed and suffixed by double underscore\n",
    "(__init__) and are used to define objects of a class behave with pythons built in functions and operators."
   ]
  },
  {
   "cell_type": "markdown",
   "id": "1df98469-98e4-47dc-a343-c404272a0682",
   "metadata": {},
   "source": [
    "6. Explain the concept of inheritance in OOP?\n",
    "ans: inheritance in OOP is a mechanism tthat allows one class (child) to inherit the properties and behaviour (methods)\n",
    "of another class (parent) it promotes code, reuse, extensibility and hierarchical class structure."
   ]
  },
  {
   "cell_type": "markdown",
   "id": "42029783-9100-4d89-bd72-e873c46df94a",
   "metadata": {},
   "source": [
    "7. What is polymorphism in OOP ?\n",
    "ans: polymorphism in OOP means \"many forms\" it allows objects to be treated as interface of their parent class, enabling\n",
    "a single interface to represent different unferlying data types or methods."
   ]
  },
  {
   "cell_type": "markdown",
   "id": "beb1274f-81ff-4fc0-b3b6-50068e2a01db",
   "metadata": {},
   "source": [
    "8. How is encapsulation achieved in Python?\n",
    "ans: encapsulation in python is achieved by restricting direct acccess to an objects data and methods while allowing\n",
    "controlled access through getters, setters and private attributes. this ensures data protection and integrity. "
   ]
  },
  {
   "cell_type": "markdown",
   "id": "80c0a236-7a31-4740-9d3a-37699e0c6fcd",
   "metadata": {},
   "source": [
    "9. What is a constructor in Python?\n",
    "ans: a constructor in pyhton is a special method called automatically when an object of a class is created it is\n",
    "used to initialize the objects attributes."
   ]
  },
  {
   "cell_type": "markdown",
   "id": "073b22da-a71f-4c0c-a247-bd72fa3baa7c",
   "metadata": {},
   "source": [
    "10. What are class and static methods in Python?\n",
    "ans: classmethod (@classmethod) operates on the class itself using cls and are used to modify or access class-level data.\n",
    "staticmethod (@staticmethod) are independant of the class and instance with no 'self' or 'cls' parameter, and are typically used for\n",
    "utility functions that doesnt modify class or instance state."
   ]
  },
  {
   "cell_type": "markdown",
   "id": "4cd06281-d602-4467-a97f-66a49987c970",
   "metadata": {},
   "source": [
    "11. What is method overloading in Python?\n",
    "ans: method overloading in python refers to defining a method with the same name but different arguement lists.while\n",
    "python doesnt support traditional overloading. similar behaviour can be achieved using default arguments, variable-length argument or\n",
    "type checking inside the method.    "
   ]
  },
  {
   "cell_type": "markdown",
   "id": "fc89d903-384a-4060-86ea-69e785e4a088",
   "metadata": {},
   "source": [
    "12. What is method overriding in OOP?\n",
    "ans: method overriding in OOP occurs when a subclass provides its own implementation of a method that is already\n",
    "defined in its superclass this allows that subclass to modify or extend the behaviour of the inherited method."
   ]
  },
  {
   "cell_type": "markdown",
   "id": "f846a11e-af17-4aad-85a4-6b0c600fb999",
   "metadata": {},
   "source": [
    "13. What is a property decorator in Python?\n",
    "ans: the @propertydecorator in python is used to define methods that behave like attributes, enabling controlled\n",
    "access, validation and calculation of data whikle maintaining a clean interface."
   ]
  },
  {
   "cell_type": "markdown",
   "id": "68cc69e7-91e0-4b33-a5d6-9cf9b3248542",
   "metadata": {},
   "source": [
    "14. Why is polymorphism important in OOP?\n",
    "ans: polymorphism is important in OOP because it promotes code reusability, flexibility, simplicity, dynamic behaviour\n",
    "and loose coupling. it allows objects of different types to be treated uniformly, making code more extensible maintainable and adaptable."
   ]
  },
  {
   "cell_type": "markdown",
   "id": "2294496f-36c4-485c-bfb3-4c4a02d08a7a",
   "metadata": {},
   "source": [
    "15. What is an abstract class in Python?\n",
    "ans: an abstract class in python is a class that cannot be instantiated directly and serves as a blueprint for other\n",
    "classes. it allows you to define abstract methods. that must be implemented by subclasses, ensuring a consistent interface\n",
    "across diffferent subclass."
   ]
  },
  {
   "cell_type": "markdown",
   "id": "0a4f8e39-5b6b-4c50-a75a-735c80e22dda",
   "metadata": {},
   "source": [
    "16. What are the advantages of OOP?\n",
    "ans: 1. modularity through encapsulation\n",
    "2. code reusability via inheritance\n",
    "3. flexibility and extensibility through polymorphism\n",
    "4. modifiaBILITY\n",
    "5. data security\n",
    "6. scalability "
   ]
  },
  {
   "cell_type": "markdown",
   "id": "336b1340-289b-460e-8313-3c9f737e8488",
   "metadata": {},
   "source": [
    "17.  What is the difference between a class variable and an instance variable?\n",
    "ans: class variables are shared by all instances of the class and belong to the class itself. instance variable are unique\n",
    "to each object instance and belong to the object. "
   ]
  },
  {
   "cell_type": "markdown",
   "id": "116d5887-53a5-4e37-adf8-ae4568147fe1",
   "metadata": {},
   "source": [
    "18. What is multiple inheritance in Python?\n",
    "ans: multiple inheritance in python refers to the ability of a class to inherit from more than one parent class.\n",
    "this allows to inherit attributes and methods from multiple classes, enabling it to combine behaviours from different\n",
    "sources."
   ]
  },
  {
   "cell_type": "markdown",
   "id": "bdc874ca-95a7-4887-8c1c-1a3e7a18f567",
   "metadata": {},
   "source": [
    "19. Explain the purpose of ‘’__str__’ and ‘__repr__’ ‘ methods in Python\n",
    "ans: in python __str__ and __repr__ are special dunder method used to define how an object is represented as a\n",
    "string __str__ is for user friendly string representations of object __repr__ is for precise and formal\n",
    "string representations."
   ]
  },
  {
   "cell_type": "markdown",
   "id": "1ff58e03-6d35-4f9e-a8e6-2a0117fe9311",
   "metadata": {},
   "source": [
    "20. What is the significance of the ‘super()’ function in Python?\n",
    "ans: super() is a built-in function in python used to call methods from a parent class, allowing subclasses to\n",
    "extend or modify inherited behaviour."
   ]
  },
  {
   "cell_type": "markdown",
   "id": "a1426700-e280-4254-b16e-a97c28393b91",
   "metadata": {},
   "source": [
    "21.  What is the significance of the __del__ method in Python?\n",
    "ans: the __del__ method in python is a special method, often referred to as a destructor. that is called when an object is about\n",
    "to be destroyed. this method is used for cleanup operations."
   ]
  },
  {
   "cell_type": "markdown",
   "id": "0fb68ace-eae3-4695-b0d1-f81ec72b1553",
   "metadata": {},
   "source": [
    "22. What is the difference between @staticmethod and @classmethod in Python?\n",
    "ans: @staticmethod: a method that doesnt have access to the instance or class its essentially a method that\n",
    "belongs to the class but operators independently of the class or instance.\n",
    "@classmethod: a method that takes cls as its first arguments, ehich refers to the class, it has access to and csan\n",
    "modify class-level attributes."
   ]
  },
  {
   "cell_type": "markdown",
   "id": "143065d9-aa73-44f5-892d-47e5c8725428",
   "metadata": {},
   "source": [
    "23.  How does polymorphism work in Python with inheritance?\n",
    "ans: polymorphism in puthon in context of inheritance, allows objects of different types (subclasses) to be treated as object of a\n",
    "common parent type (superclass) it is achieved through method overriding."
   ]
  },
  {
   "cell_type": "markdown",
   "id": "32fd3494-3c52-4800-b4e5-6b8abf55b2f8",
   "metadata": {},
   "source": [
    "24. What is method chaining in Python OOP?\n",
    "ans: method chaining is a programming technique in python where methods are called on the same object in a single\n",
    "line. this is possible each method returns the object itself (self), allowing for successive method cells."
   ]
  },
  {
   "cell_type": "markdown",
   "id": "8ac44ff7-5ca8-41c6-8f03-882068cbbed0",
   "metadata": {},
   "source": [
    "25. F What is the purpose of the __call__ method in Python?\n",
    "ans: the __call__ method in python is a special method that allows an object to be called like a function, when you\n",
    "define the __call__ method in a class instances of that class can be called directly using parenthesis, as if they were\n",
    "functions."
   ]
  },
  {
   "cell_type": "code",
   "execution_count": null,
   "id": "db63ceea-7c11-4df4-b20d-022df3581e29",
   "metadata": {},
   "outputs": [],
   "source": []
  },
  {
   "cell_type": "markdown",
   "id": "2a71f8e3-3248-413e-9379-7530abd97d4c",
   "metadata": {},
   "source": [
    "#PRACTICAL QUESTIONS"
   ]
  },
  {
   "cell_type": "code",
   "execution_count": null,
   "id": "ceb6ae69-f1e4-4ec8-b464-a15ea3448cb7",
   "metadata": {},
   "outputs": [],
   "source": []
  },
  {
   "cell_type": "code",
   "execution_count": 96,
   "id": "3ade4ae5-85e3-4d8b-a98e-d0c35c6b7323",
   "metadata": {},
   "outputs": [],
   "source": [
    "#1.  Create a parent class Animal with a method speak() that prints a generic message. Create a child class Dog\n",
    "#that overrides the speak() method to print \"Bark!\"\n",
    "\n",
    "class animal : \n",
    "        def speak (self):\n",
    "            print (\"the animal makes sound\")\n",
    "\n",
    "\n",
    "class dog(animal):\n",
    "        def speak (self):\n",
    "            print (\"bark!\") "
   ]
  },
  {
   "cell_type": "code",
   "execution_count": 99,
   "id": "79690608-16da-4694-be7b-8e3b68923d1b",
   "metadata": {},
   "outputs": [
    {
     "name": "stdout",
     "output_type": "stream",
     "text": [
      "the animal makes sound\n"
     ]
    }
   ],
   "source": [
    "animal = animal()\n",
    "dog = dog()\n",
    "\n",
    "animal.speak() "
   ]
  },
  {
   "cell_type": "code",
   "execution_count": 101,
   "id": "c4bd0958-cd1c-453d-98bf-9cd502f4f76c",
   "metadata": {},
   "outputs": [
    {
     "name": "stdout",
     "output_type": "stream",
     "text": [
      "bark!\n"
     ]
    }
   ],
   "source": [
    "dog.speak() "
   ]
  },
  {
   "cell_type": "code",
   "execution_count": null,
   "id": "df54efba-8ef8-42ac-b418-d2570c1f1e67",
   "metadata": {},
   "outputs": [],
   "source": [
    "#2. Write a program to create an abstract class Shape with a method area(). Derive classes Circle and Rectangle\n",
    "#from it and implement the area() method in both"
   ]
  },
  {
   "cell_type": "code",
   "execution_count": 177,
   "id": "5034f47e-9b93-4969-aff2-ecb13eb2d545",
   "metadata": {
    "scrolled": true
   },
   "outputs": [
    {
     "name": "stdout",
     "output_type": "stream",
     "text": [
      "Area of Circle: 78.54\n",
      "Area of Rectangle: 24\n"
     ]
    }
   ],
   "source": [
    "from abc import ABC, abstractmethod \n",
    "import math \n",
    "class Shape(ABC):\n",
    "    @abstractmethod\n",
    "    def area(self):\n",
    "        \"Abstract method to calculate area\"\n",
    "        pass\n",
    "\n",
    "class Circle(Shape):\n",
    "    def __init__(self, radius):\n",
    "        self.radius = radius\n",
    "\n",
    "    def area(self):\n",
    "        return math.pi * self.radius ** 2\n",
    "\n",
    "\n",
    "class Rectangle(Shape):\n",
    "    def __init__(self, width, height):\n",
    "        self.width = width\n",
    "        self.height = height\n",
    "\n",
    "    def area(self):\n",
    "        return self.width * self.height\n",
    "\n",
    "circle = Circle(5)\n",
    "rectangle = Rectangle(4, 6)\n",
    "\n",
    "# Printing the area of both shapes\n",
    "print(f\"Area of Circle: {circle.area():.2f}\")   \n",
    "print(f\"Area of Rectangle: {rectangle.area()}\") "
   ]
  },
  {
   "cell_type": "code",
   "execution_count": 196,
   "id": "d2cea746-f086-4b40-b28e-98cd82cc6ac6",
   "metadata": {},
   "outputs": [],
   "source": [
    "#3  Implement a multi-level inheritance scenario where a class Vehicle has an attribute type. Derive a class Car\n",
    "#and further derive a class ElectricCar that adds a battery attribute\n",
    "\n",
    "class vehicle : \n",
    "    def __init__ (self):\n",
    "        self.type = \"vehicle\"\n",
    "\n",
    "class car (vehicle):\n",
    "    def __init__ (self, brand):\n",
    "        super().__init__()\n",
    "        self.brand = brand\n",
    "\n",
    "class electriccar (car):\n",
    "    def __init__ (self, brand, battery_capacity):\n",
    "        super().__init__(brand)\n",
    "        self.battery_capacity = battery_capacity\n",
    "        def display_info(self): \n",
    "            print (\"type: {self.type}, brand: {self.brand}, battery: kwh{self.battery_capacity}:\")\n",
    "\n",
    "tata = electriccar (\"tata\", 95)\n",
    "tata.display_info ()"
   ]
  },
  {
   "cell_type": "code",
   "execution_count": 212,
   "id": "14850383-2778-4b7a-8669-0b2a8184992d",
   "metadata": {},
   "outputs": [
    {
     "name": "stdout",
     "output_type": "stream",
     "text": [
      "Type: Vehicle, Brand: Tesla, Battery: 75 kWh\n"
     ]
    }
   ],
   "source": [
    "#4.  Implement a multi-level inheritance scenario where a class Vehicle has an attribute type. Derive a class Car\n",
    "#and further derive a class ElectricCar that adds a battery attribute\n",
    "\n",
    "class Vehicle:\n",
    "    def __init__(self):\n",
    "        self.type = \"Vehicle\"\n",
    "\n",
    "\n",
    "class Car(Vehicle):\n",
    "    def __init__(self, brand):\n",
    "        super().__init__()\n",
    "        self.brand = brand\n",
    "\n",
    "\n",
    "class ElectricCar(Car):\n",
    "    def __init__(self, brand, battery_capacity):\n",
    "        super().__init__(brand)\n",
    "        self.battery_capacity = battery_capacity\n",
    "\n",
    "    def display_info(self):\n",
    "        print(f\"Type: {self.type}, Brand: {self.brand}, Battery: {self.battery_capacity} kWh\")\n",
    "\n",
    "tesla = ElectricCar(\"Tesla\", 75)\n",
    "tesla.display_info()"
   ]
  },
  {
   "cell_type": "code",
   "execution_count": 226,
   "id": "35767cae-0a01-4c60-bf74-ed201f762f29",
   "metadata": {},
   "outputs": [
    {
     "name": "stdout",
     "output_type": "stream",
     "text": [
      "Deposited: rs50\n",
      "Withdrew: rs30\n",
      "Current Balance: rs120\n"
     ]
    }
   ],
   "source": [
    "#5.  Write a program to demonstrate encapsulation by creating a class BankAccount with private attributes\n",
    "#balance and methods to deposit, withdraw, and check balance.\n",
    "\n",
    "class BankAccount:\n",
    "    def __init__(self, initial_balance=0):\n",
    "        self.__balance = initial_balance  \n",
    "\n",
    "    \n",
    "    def deposit(self, amount):\n",
    "        if amount > 0:\n",
    "            self.__balance += amount\n",
    "            print(f\"Deposited: rs{amount}\")\n",
    "        else:\n",
    "            print(\"Deposit amount must be positive.\")\n",
    "\n",
    "   \n",
    "    def withdraw(self, amount):\n",
    "        if 0 < amount <= self.__balance:\n",
    "            self.__balance -= amount\n",
    "            print(f\"Withdrew: rs{amount}\")\n",
    "        else:\n",
    "            print(\"Insufficient balance or invalid amount.\")\n",
    "\n",
    "\n",
    "    def get_balance(self):\n",
    "        return self.__balance\n",
    "\n",
    "\n",
    "account = BankAccount(100)\n",
    "\n",
    "account.deposit(50)\n",
    "account.withdraw(30)\n",
    "print(f\"Current Balance: rs{account.get_balance()}\")"
   ]
  },
  {
   "cell_type": "code",
   "execution_count": 241,
   "id": "add5d5e9-e563-4dc6-a3db-8f4203abd805",
   "metadata": {},
   "outputs": [
    {
     "name": "stdout",
     "output_type": "stream",
     "text": [
      "Playing the guitar: Strumming chords.\n",
      "Playing the piano: Pressing keys.\n"
     ]
    }
   ],
   "source": [
    "#6. Demonstrate runtime polymorphism using a method play() in a base class Instrument. Derive classes Guitar\n",
    "#and Piano that implement their own version of play()\n",
    "\n",
    "class Instrument:\n",
    "    def play(self):\n",
    "        print(\"Playing an instrument.\")\n",
    "\n",
    "\n",
    "class Guitar(Instrument):\n",
    "    def play(self):\n",
    "        print(\"Playing the guitar: Strumming chords.\")\n",
    "\n",
    "\n",
    "class Piano(Instrument):\n",
    "    def play(self):\n",
    "        print(\"Playing the piano: Pressing keys.\")\n",
    "\n",
    "\n",
    "def perform(instrument):\n",
    "    instrument.play()\n",
    "\n",
    "\n",
    "guitar = Guitar()\n",
    "piano = Piano()\n",
    "\n",
    "\n",
    "perform(guitar) \n",
    "perform(piano)"
   ]
  },
  {
   "cell_type": "code",
   "execution_count": 243,
   "id": "21ae37b2-f303-4e41-9277-19343f655acf",
   "metadata": {},
   "outputs": [
    {
     "name": "stdout",
     "output_type": "stream",
     "text": [
      "Sum: 15\n",
      "Difference: 5\n"
     ]
    }
   ],
   "source": [
    "#7.  Create a class MathOperations with a class method add_numbers() to add two numbers and a static\n",
    "#method subtract_numbers() to subtract two numbers.\n",
    "\n",
    "class MathOperations:\n",
    "   \n",
    "    @classmethod\n",
    "    def add_numbers(cls, a, b):\n",
    "        return a + b\n",
    "\n",
    "   \n",
    "    @staticmethod\n",
    "    def subtract_numbers(a, b):\n",
    "        return a - b\n",
    "\n",
    "\n",
    "sum_result = MathOperations.add_numbers(10, 5)\n",
    "difference_result = MathOperations.subtract_numbers(10, 5)\n",
    "\n",
    "\n",
    "print(f\"Sum: {sum_result}\")         \n",
    "print(f\"Difference: {difference_result}\")"
   ]
  },
  {
   "cell_type": "code",
   "execution_count": 245,
   "id": "70197040-85df-41ce-a499-5ac6053bbde0",
   "metadata": {},
   "outputs": [
    {
     "name": "stdout",
     "output_type": "stream",
     "text": [
      "Total persons created: 3\n"
     ]
    }
   ],
   "source": [
    "#8. Implement a class Person with a class method to count the total number of persons created\n",
    "\n",
    "class Person:\n",
    "\n",
    "    count = 0\n",
    "\n",
    "    def __init__(self, name):\n",
    "        self.name = name\n",
    "        Person.count += 1  \n",
    "\n",
    "   \n",
    "    @classmethod\n",
    "    def get_total_persons(cls):\n",
    "        return cls.count\n",
    "\n",
    "\n",
    "person1 = Person(\"Alice\")\n",
    "person2 = Person(\"Bob\")\n",
    "person3 = Person(\"Charlie\")\n",
    "\n",
    "\n",
    "print(f\"Total persons created: {Person.get_total_persons()}\")"
   ]
  },
  {
   "cell_type": "code",
   "execution_count": 247,
   "id": "0a865e02-c5e8-472a-a062-8e10d5abdad4",
   "metadata": {},
   "outputs": [
    {
     "name": "stdout",
     "output_type": "stream",
     "text": [
      "Fraction 1: 3/4\n",
      "Fraction 2: 5/8\n"
     ]
    }
   ],
   "source": [
    "#9. Write a class Fraction with attributes numerator and denominator. Override the str method to display the\n",
    "#fraction as \"numerator/denominator\".\n",
    "\n",
    "class Fraction:\n",
    "    def __init__(self, numerator, denominator):\n",
    "        self.numerator = numerator\n",
    "        self.denominator = denominator\n",
    "\n",
    "    \n",
    "    def __str__(self):\n",
    "        return f\"{self.numerator}/{self.denominator}\"\n",
    "\n",
    "\n",
    "fraction1 = Fraction(3, 4)\n",
    "fraction2 = Fraction(5, 8)\n",
    "\n",
    "\n",
    "print(\"Fraction 1:\", fraction1) \n",
    "print(\"Fraction 2:\", fraction2) "
   ]
  },
  {
   "cell_type": "code",
   "execution_count": 249,
   "id": "24a5282f-970f-47ab-bcbc-6ffce2096b7b",
   "metadata": {},
   "outputs": [
    {
     "name": "stdout",
     "output_type": "stream",
     "text": [
      "Result of addition: (6, 8)\n"
     ]
    }
   ],
   "source": [
    "#10.  Demonstrate operator overloading by creating a class Vector and overriding the add method to add two\n",
    "#vectors.\n",
    "\n",
    "class Vector:\n",
    "    def __init__(self, x, y):\n",
    "        self.x = x\n",
    "        self.y = y\n",
    "\n",
    "\n",
    "    def __add__(self, other):\n",
    "        \n",
    "        return Vector(self.x + other.x, self.y + other.y)\n",
    "\n",
    "\n",
    "    def __str__(self):\n",
    "        return f\"({self.x}, {self.y})\"\n",
    "\n",
    "\n",
    "vector1 = Vector(2, 3)\n",
    "vector2 = Vector(4, 5)\n",
    "\n",
    "\n",
    "result = vector1 + vector2\n",
    "\n",
    "\n",
    "print(f\"Result of addition: {result}\")"
   ]
  },
  {
   "cell_type": "code",
   "execution_count": 253,
   "id": "6ae9bee9-d006-4e7c-9f1a-388cd11004b6",
   "metadata": {},
   "outputs": [
    {
     "name": "stdout",
     "output_type": "stream",
     "text": [
      "Hello, my name is omkar and I am 20 years old.\n"
     ]
    }
   ],
   "source": [
    "#11.  Create a class Person with attributes name and age. Add a method greet() that prints \"Hello, my name is\n",
    "#{name} and I am {age} years old.\n",
    "\n",
    "class Person:\n",
    "    def __init__(self, name, age):\n",
    "        self.name = name\n",
    "        self.age = age\n",
    "\n",
    "    \n",
    "    def greet(self):\n",
    "        print(f\"Hello, my name is {self.name} and I am {self.age} years old.\")\n",
    "\n",
    "\n",
    "person1 = Person(\"omkar\", 20)\n",
    "\n",
    "\n",
    "person1.greet()"
   ]
  },
  {
   "cell_type": "code",
   "execution_count": 257,
   "id": "0fa11f03-a4f1-4584-b704-26c80fbbbed6",
   "metadata": {},
   "outputs": [
    {
     "name": "stdout",
     "output_type": "stream",
     "text": [
      "omkar's average grade is: 86.60\n"
     ]
    }
   ],
   "source": [
    "#12. Implement a class Student with attributes name and grades. Create a method average_grade() to compute\n",
    "#the average of the grades.\n",
    "\n",
    "class Student:\n",
    "    def __init__(self, name, grades):\n",
    "        self.name = name\n",
    "        self.grades = grades\n",
    "\n",
    "\n",
    "    def average_grade(self):\n",
    "        if self.grades:  \n",
    "            return sum(self.grades) / len(self.grades)\n",
    "        else:\n",
    "            return 0\n",
    "\n",
    "\n",
    "student1 = Student(\"omkar\", [85, 90, 78, 92, 88])\n",
    "\n",
    "\n",
    "average = student1.average_grade()\n",
    "\n",
    "\n",
    "print(f\"{student1.name}'s average grade is: {average:.2f}\")"
   ]
  },
  {
   "cell_type": "code",
   "execution_count": 259,
   "id": "8dc7d0cb-f14f-44cf-830c-aefcf61e7126",
   "metadata": {},
   "outputs": [
    {
     "name": "stdout",
     "output_type": "stream",
     "text": [
      "The area of the rectangle is: 50\n"
     ]
    }
   ],
   "source": [
    "#13. Create a class Rectangle with methods set_dimensions() to set the dimensions and area() to calculate the area.\n",
    "\n",
    "class Rectangle:\n",
    "    def __init__(self):\n",
    "        self.length = 0\n",
    "        self.width = 0\n",
    "\n",
    "\n",
    "    def set_dimensions(self, length, width):\n",
    "        self.length = length\n",
    "        self.width = width\n",
    "\n",
    " \n",
    "    def area(self):\n",
    "        return self.length * self.width\n",
    "\n",
    "\n",
    "rectangle = Rectangle()\n",
    "\n",
    "\n",
    "rectangle.set_dimensions(5, 10)\n",
    "\n",
    "\n",
    "print(f\"The area of the rectangle is: {rectangle.area()}\")"
   ]
  },
  {
   "cell_type": "code",
   "execution_count": 261,
   "id": "1449c6a7-e8f5-4ee8-a18a-1b3745ad9313",
   "metadata": {},
   "outputs": [
    {
     "name": "stdout",
     "output_type": "stream",
     "text": [
      "Employee Salary: 800\n",
      "Manager Salary: 1700\n"
     ]
    }
   ],
   "source": [
    "#14.  Create a class Employee with a method calculate_salary() that computes the salary based on hours worked\n",
    "#and hourly rate. Create a derived class Manager that adds a bonus to the salary.\n",
    "\n",
    "class Employee:\n",
    "    def __init__(self, hours, rate):\n",
    "        self.hours = hours\n",
    "        self.rate = rate\n",
    "\n",
    "    def calculate_salary(self):\n",
    "        return self.hours * self.rate\n",
    "\n",
    "\n",
    "class Manager(Employee):\n",
    "    def __init__(self, hours, rate, bonus):\n",
    "        super().__init__(hours, rate)\n",
    "        self.bonus = bonus\n",
    "\n",
    "    def calculate_salary(self):\n",
    "        return super().calculate_salary() + self.bonus\n",
    "\n",
    "\n",
    "emp = Employee(40, 20)\n",
    "mgr = Manager(40, 30, 500)\n",
    "\n",
    "\n",
    "print(\"Employee Salary:\", emp.calculate_salary())  \n",
    "print(\"Manager Salary:\", mgr.calculate_salary())"
   ]
  },
  {
   "cell_type": "code",
   "execution_count": 267,
   "id": "3128db02-2fe9-4741-9430-860a5c99c915",
   "metadata": {},
   "outputs": [
    {
     "name": "stdout",
     "output_type": "stream",
     "text": [
      "Total price of Laptop: rs300000\n"
     ]
    }
   ],
   "source": [
    "#15. . Create a class Product with attributes name, price, and quantity. Implement a method total_price() that\n",
    "#calculates the total price of the product.\n",
    "\n",
    "class Product:\n",
    "    def __init__(self, name, price, quantity):\n",
    "        self.name = name\n",
    "        self.price = price\n",
    "        self.quantity = quantity\n",
    "\n",
    "\n",
    "    def total_price(self):\n",
    "        return self.price * self.quantity\n",
    "\n",
    "\n",
    "product = Product(\"Laptop\", 100000, 3)\n",
    "\n",
    "\n",
    "print(f\"Total price of {product.name}: rs{product.total_price()}\")"
   ]
  },
  {
   "cell_type": "code",
   "execution_count": 269,
   "id": "ebfd8bc5-55aa-4aa5-825b-a9744ca510ec",
   "metadata": {},
   "outputs": [
    {
     "name": "stdout",
     "output_type": "stream",
     "text": [
      "Cow says: Moo\n",
      "Sheep says: Baa\n"
     ]
    }
   ],
   "source": [
    "#16. . Create a class Animal with an abstract method sound(). Create two derived classes Cow and Sheep that\n",
    "#implement the sound() method.\n",
    "\n",
    "from abc import ABC, abstractmethod\n",
    "\n",
    "\n",
    "class Animal(ABC):\n",
    "    @abstractmethod\n",
    "    def sound(self):\n",
    "        pass\n",
    "\n",
    "\n",
    "class Cow(Animal):\n",
    "    def sound(self):\n",
    "        return \"Moo\"\n",
    "\n",
    "\n",
    "class Sheep(Animal):\n",
    "    def sound(self):\n",
    "        return \"Baa\"\n",
    "\n",
    "\n",
    "cow = Cow()\n",
    "sheep = Sheep()\n",
    "\n",
    "print(f\"Cow says: {cow.sound()}\")  \n",
    "print(f\"Sheep says: {sheep.sound()}\")"
   ]
  },
  {
   "cell_type": "code",
   "execution_count": 271,
   "id": "7083e339-dafb-4a8a-a17e-8231bbf792b9",
   "metadata": {},
   "outputs": [
    {
     "name": "stdout",
     "output_type": "stream",
     "text": [
      "Title: The Great Gatsby\n",
      "Author: F. Scott Fitzgerald\n",
      "Year Published: 1925\n"
     ]
    }
   ],
   "source": [
    "#17.  Create a class Book with attributes title, author, and year_published. Add a method get_book_info() that\n",
    "#returns a formatted string with the book's details.\n",
    "\n",
    "class Book:\n",
    "    def __init__(self, title, author, year_published):\n",
    "        self.title = title\n",
    "        self.author = author\n",
    "        self.year_published = year_published\n",
    "\n",
    "\n",
    "    def get_book_info(self):\n",
    "        return f\"Title: {self.title}\\nAuthor: {self.author}\\nYear Published: {self.year_published}\"\n",
    "\n",
    "\n",
    "book1 = Book(\"The Great Gatsby\", \"F. Scott Fitzgerald\", 1925)\n",
    "\n",
    "\n",
    "print(book1.get_book_info())"
   ]
  },
  {
   "cell_type": "code",
   "execution_count": null,
   "id": "b39ebd46-49d2-453b-bdbd-4511f65d961b",
   "metadata": {},
   "outputs": [],
   "source": [
    "#18. "
   ]
  }
 ],
 "metadata": {
  "kernelspec": {
   "display_name": "Python 3 (ipykernel)",
   "language": "python",
   "name": "python3"
  },
  "language_info": {
   "codemirror_mode": {
    "name": "ipython",
    "version": 3
   },
   "file_extension": ".py",
   "mimetype": "text/x-python",
   "name": "python",
   "nbconvert_exporter": "python",
   "pygments_lexer": "ipython3",
   "version": "3.12.7"
  }
 },
 "nbformat": 4,
 "nbformat_minor": 5
}
